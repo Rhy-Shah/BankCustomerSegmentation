{
 "cells": [
  {
   "cell_type": "code",
   "execution_count": 153,
   "metadata": {},
   "outputs": [],
   "source": [
    "import pandas as pd\n",
    "import numpy as np\n",
    "import matplotlib.pyplot as plt\n",
    "import seaborn as sns\n",
    "from sklearn.preprocessing import LabelEncoder \n",
    "from sklearn.model_selection import train_test_split, RandomizedSearchCV, GridSearchCV\n",
    "from sklearn.ensemble import RandomForestClassifier, GradientBoostingClassifier\n",
    "from sklearn.tree import DecisionTreeClassifier\n",
    "from xgboost import XGBClassifier\n",
    "from sklearn.metrics import roc_curve, auc, accuracy_score\n",
    "import warnings\n",
    "from sklearn.svm import SVC\n"
   ]
  },
  {
   "cell_type": "code",
   "execution_count": null,
   "metadata": {},
   "outputs": [],
   "source": [
    "df = pd.read_csv('bank.csv')\n",
    "df"
   ]
  },
  {
   "cell_type": "markdown",
   "metadata": {},
   "source": [
    "The dataset has 11162 rows and 17 features"
   ]
  },
  {
   "cell_type": "markdown",
   "metadata": {},
   "source": [
    "# Understanding the Dataset\n",
    "\n",
    "Age:- Age of the customer\n",
    "\n",
    "Job:- Job of the customer\n",
    "\n",
    "Marital:- Marital status of the customer (Married or unmarried)\n",
    "\n",
    "Education:- Education level of the customer\n",
    "\n",
    "Default:- Has ever defaulted in credit\n",
    "\n",
    "Balance:- Account Balance\n",
    "\n",
    "Housing:- If the client has housing loan with the bank\n",
    "\n",
    "Loan:- If the client has personal loan with the bank\n",
    "\n",
    "Contact:- Mode of communication\n",
    "\n",
    "Month:- Month when last contacted\n",
    "\n",
    "Day:- Day when last contacted\n",
    "\n",
    "Duration:- Duration of last contact in seconds\n",
    "\n",
    "Campaign:- Number of times the person was contacted during the current campaign\n",
    "\n",
    "pdays:- number of days since client was last contacted after the previous campaign\n",
    "\n",
    "previous:- Number of times the person was contacted during the previous campaigns\n",
    "\n",
    "poutcome:- outcome of the previous campaign\n",
    "\n",
    "deposit:- does the client have a deposit with the bank"
   ]
  },
  {
   "cell_type": "code",
   "execution_count": null,
   "metadata": {},
   "outputs": [],
   "source": [
    "df.info()"
   ]
  },
  {
   "cell_type": "code",
   "execution_count": null,
   "metadata": {},
   "outputs": [],
   "source": [
    "df.describe()"
   ]
  },
  {
   "cell_type": "markdown",
   "metadata": {},
   "source": [
    "* Mean age in the data is 41. Min age is 18 and the maxiumum age is 95.\n",
    "\n",
    "* Mean bank balance of customers is 1528.54. The lowest balance is -6847 and the highest balance is 81204."
   ]
  },
  {
   "cell_type": "code",
   "execution_count": null,
   "metadata": {},
   "outputs": [],
   "source": [
    "df.isnull().sum()"
   ]
  },
  {
   "cell_type": "markdown",
   "metadata": {},
   "source": [
    "There are no missing values in the data."
   ]
  },
  {
   "cell_type": "code",
   "execution_count": null,
   "metadata": {},
   "outputs": [],
   "source": [
    "df.duplicated().sum()"
   ]
  },
  {
   "cell_type": "markdown",
   "metadata": {},
   "source": [
    "There are is duplicate data."
   ]
  },
  {
   "cell_type": "markdown",
   "metadata": {},
   "source": [
    "Checking the values in each column"
   ]
  },
  {
   "cell_type": "code",
   "execution_count": null,
   "metadata": {},
   "outputs": [],
   "source": [
    "for column in df.columns:\n",
    "    print(f\"Unique values in {column}:\")\n",
    "    print(df[column].unique(),\"\\n\")"
   ]
  },
  {
   "cell_type": "code",
   "execution_count": null,
   "metadata": {},
   "outputs": [],
   "source": [
    "df"
   ]
  },
  {
   "cell_type": "code",
   "execution_count": null,
   "metadata": {},
   "outputs": [],
   "source": [
    "df.deposit.value_counts()"
   ]
  },
  {
   "cell_type": "markdown",
   "metadata": {},
   "source": [
    "The dataset is balanced"
   ]
  },
  {
   "cell_type": "markdown",
   "metadata": {},
   "source": [
    "Lets check the distribution of the data"
   ]
  },
  {
   "cell_type": "code",
   "execution_count": null,
   "metadata": {},
   "outputs": [],
   "source": [
    "numerical_columns = df.select_dtypes(include=['int64']).columns\n",
    "numerical_columns = numerical_columns.drop('day')\n",
    "\n",
    "df[numerical_columns].hist(bins=30, figsize=(15, 10))\n",
    "plt.tight_layout()\n",
    "for ax in plt.gcf().axes:\n",
    "    for patch in ax.patches:\n",
    "        patch.set_facecolor('skyblue')\n",
    "plt.show()"
   ]
  },
  {
   "cell_type": "markdown",
   "metadata": {},
   "source": [
    "1. **Age**: Most people are between 20 and 40 years old, with a peak around 30. The distribution skews slightly right, with a few individuals up to around 90 years.\n",
    "\n",
    "2. **Balance**: The distribution is highly right-skewed, with most values close to zero. A few individuals have balances that reach as high as 80,000, but such high values are rare.\n",
    "\n",
    "3. **Duration**: This feature is also right-skewed, with the majority of contact durations being under 500 seconds.\n",
    "\n",
    "4. **Campaign**: The majority of people have been contacted only a few times (less than 5), with a steep drop-off. There are some cases where individuals were contacted up to 20 times, but these are uncommon.\n",
    "\n",
    "5. **Pdays**: This variable, indicating the number of days since a person was last contacted in a previous campaign, shows a concentration at zero, suggesting that many individuals were either never contacted or contacted very recently. A few have values extending up to 850 days.\n",
    "\n",
    "6. **Previous**: Most individuals were contacted fewer than 5 times in prior campaigns, with a few individuals contacted as many as 50 times, suggesting some clients have been targeted in past campaigns much more frequently than others.\n",
    "\n",
    "Overall, these histograms suggest that many features are highly right-skewed."
   ]
  },
  {
   "cell_type": "code",
   "execution_count": null,
   "metadata": {},
   "outputs": [],
   "source": [
    "fig, axes = plt.subplots(nrows=2, ncols=len(numerical_columns)//2 + len(numerical_columns)%2, figsize=(20, 15))\n",
    "fig.tight_layout(pad=5.0)\n",
    "palette = sns.color_palette(\"Set2\", len(numerical_columns))\n",
    "\n",
    "for ax, column in zip(axes.flatten(), numerical_columns):\n",
    "    sns.boxplot(data=df, y=column, ax=ax, palette=[palette[i % len(palette)]])\n",
    "    ax.set_title(f'Boxplot of {column}')\n",
    "    ax.set_ylabel(column)\n",
    "\n",
    "plt.show()"
   ]
  },
  {
   "cell_type": "code",
   "execution_count": null,
   "metadata": {},
   "outputs": [],
   "source": [
    "fig, axes = plt.subplots(nrows=2, ncols=len(numerical_columns)//2 + len(numerical_columns)%2, figsize=(20, 10))\n",
    "fig.tight_layout(pad=5.0)\n",
    "\n",
    "for ax, column in zip(axes.flatten(), numerical_columns):\n",
    "    sns.barplot(data=df, x='deposit', y=column, ax=ax, palette='Set2')\n",
    "    ax.set_title(f'{column} vs Deposit')\n",
    "    ax.set_xlabel('Deposit')\n",
    "    ax.set_ylabel(column)\n",
    "\n",
    "plt.show()"
   ]
  },
  {
   "cell_type": "markdown",
   "metadata": {},
   "source": [
    "1. **Age vs Deposit**: The average age is quite similar for both groups (\"yes\" and \"no\"), indicating that age might not have a strong impact on the likelihood of making a deposit.\n",
    "\n",
    "2. **Balance vs Deposit**: People who made a deposit (\"yes\") generally have a higher average balance than those who did not (\"no\"), suggesting that a higher balance might be positively associated with making a deposit.\n",
    "\n",
    "3. **Duration vs Deposit**: Duration is significantly higher for those who made a deposit. This implies that longer contact durations could be strongly associated with a successful deposit.\n",
    "\n",
    "4. **Campaign vs Deposit**: Individuals who did not make a deposit were contacted more times on average than those who did, indicating that excessive contact attempts may reduce the chance of a deposit.\n",
    "\n",
    "5. **Pdays vs Deposit**: The average \"pdays\" (days since the last contact in a previous campaign) is higher for those who made a deposit, suggesting that recent contacts in previous campaigns could negatively affect the likelihood of a deposit.\n",
    "\n",
    "6. **Previous vs Deposit**: Those who made a deposit had slightly more prior contacts on average than those who didn’t, implying a mild association between prior engagement and successful deposits.\n",
    "\n",
    "Overall, **balance**, **duration**, and **previous** appear to have positive associations with making a deposit, while **campaign** and **pdays** may have negative associations."
   ]
  },
  {
   "cell_type": "code",
   "execution_count": null,
   "metadata": {},
   "outputs": [],
   "source": [
    "warnings.filterwarnings('ignore')\n",
    "\n",
    "categorical_columns = ['job', 'marital', 'education', 'default', 'housing', 'loan', 'contact', 'month', 'poutcome', 'deposit']\n",
    "palette = sns.color_palette(\"Set2\", len(categorical_columns))\n",
    "\n",
    "fig, axes = plt.subplots(nrows=5, ncols=2, figsize=(15, 20))\n",
    "fig.tight_layout(pad=5.0)\n",
    "\n",
    "for ax, column in zip(axes.flatten(), categorical_columns):\n",
    "    sns.countplot(data=df, x=column, ax=ax, palette=palette)\n",
    "    ax.set_title(f'Distribution of {column}')\n",
    "    ax.set_xlabel(column)\n",
    "    ax.set_ylabel('Count')\n",
    "\n",
    "axes[0, 0].tick_params(axis='x', rotation=45)\n",
    "plt.show()"
   ]
  },
  {
   "cell_type": "markdown",
   "metadata": {},
   "source": [
    "1. **Job**: The most common jobs are blue-collar, management, and technician, while roles like student, unknown, and self-employed are less common.\n",
    "\n",
    "2. **Marital Status**: Most individuals are married, followed by singles, and a smaller portion are divorced.\n",
    "\n",
    "3. **Education**: Secondary education is the most common, followed by tertiary and primary education, with a small number of people in the unknown category.\n",
    "\n",
    "4. **Default**: Very few individuals have a credit default, as the majority are marked as “no.”\n",
    "\n",
    "5. **Housing**: The distribution between those with housing loans and those without is fairly even.\n",
    "\n",
    "6. **Loan**: Most people do not have a personal loan, with only a small portion marked as “yes.”\n",
    "\n",
    "7. **Contact**: Cellular contact is the most frequently used method, followed by unknown, with telephone being the least common.\n",
    "\n",
    "8. **Month**: Most contacts occurred in May, with other active months being July, August, and October. The fewest contacts took place in March.\n",
    "\n",
    "9. **Poutcome**: A majority of the past campaign outcomes are unknown. Among the known outcomes, failure is more common than success or other outcomes.\n",
    "\n",
    "10. **Deposit**: The distribution shows a nearly even split between people who did and did not make a deposit.\n",
    "\n",
    "These distributions suggest some interesting trends:\n",
    "- **Job** and **marital status** likely influence other variables in the dataset given their strong frequencies.\n",
    "- **Default**, **loan**, and **housing** data may have potential associations with financial stability indicators like **balance**.\n",
    "- The heavy use of cellular contact suggests that this might be an effective communication method."
   ]
  },
  {
   "cell_type": "code",
   "execution_count": null,
   "metadata": {},
   "outputs": [],
   "source": [
    "fig, axes = plt.subplots(nrows=5, ncols=2, figsize=(20, 25))\n",
    "fig.tight_layout(pad=5.0)\n",
    "\n",
    "for ax, column in zip(axes.flatten(), categorical_columns):\n",
    "    sns.boxplot(data=df, x=column, y='balance', ax=ax)\n",
    "    ax.set_title(f'Boxplot of balance by {column}')\n",
    "    ax.set_facecolor('lightgrey')\n",
    "    ax.set_xlabel(column)\n",
    "    ax.set_ylabel('Balance')\n",
    "    axes[0, 0].tick_params(axis='x', rotation=45)\n",
    "plt.show()"
   ]
  },
  {
   "cell_type": "markdown",
   "metadata": {},
   "source": [
    "1. **Job Category**:\n",
    "   - Balances vary significantly across different job categories.\n",
    "   - Some categories like \"retired\" and \"management\" show higher median balances compared to others like \"student\" or \"blue-collar.\"\n",
    "   - There are outliers in categories like \"management\" and \"retired.\n",
    "\n",
    "2. **Marital Status**:\n",
    "   - The median balance is relatively similar across marital statuses, but there are more outliers in the \"married\" category.\n",
    "\n",
    "3. **Education Level**:\n",
    "   - The median balances for different education levels are quite similar.\n",
    "   - There are more outliers in the \"tertiary\" education group, indicating some individuals have significantly higher balances.\n",
    "\n",
    "4. **Default Status**:\n",
    "   - Individuals with a \"no\" default status tend to have higher balances, as expected.\n",
    "   - The \"yes\" category shows fewer outliers and lower balances overall.\n",
    "\n",
    "5. **Housing Loan**:\n",
    "   - Those without housing loans (\"no\") have slightly higher median balances and more outliers.\n",
    "   - There are more outliers in the \"yes\" category.\n",
    "\n",
    "6. **Personal Loan**:\n",
    "   - Similar to housing loans, those without personal loans (\"no\") tend to have higher balances and more outliers.\n",
    "   - The distribution is similar between both groups, but with more high-balance outliers in the \"no\" category.\n",
    "\n",
    "7. **Contact Method**:\n",
    "   - The balance does not significantly differ by contact method, though there are some high-balance outliers in the \"telephone\" category.\n",
    "\n",
    "8. **Month of Contact**:\n",
    "   - Balances show some variation across different months, with a few months like May and October showing more high-balance outliers.\n",
    "\n",
    "9. **Previous Campaign Outcome (Poutcome)**:\n",
    "   - Those with a \"success\" outcome tend to have higher balances than other categories.\n",
    "   - There are noticeable outliers in all categories, especially in \"unknown.\"\n",
    "\n",
    "10. **Deposit Subscription**:\n",
    "    - Individuals who did not subscribe to a deposit (\"no\") show slightly higher median balances.\n",
    "    - There are more high-balance outliers in the \"no\" category.\n",
    "\n",
    "These insights suggest that while some factors like job type and previous campaign outcomes may influence balance significantly, other factors such as marital status and education level show less variation in median balance but still include significant outliers."
   ]
  },
  {
   "cell_type": "code",
   "execution_count": null,
   "metadata": {},
   "outputs": [],
   "source": [
    "fig, axes = plt.subplots(nrows=5, ncols=2, figsize=(20, 25))\n",
    "fig.tight_layout(pad=5.0)\n",
    "fig.delaxes(axes.flatten()[-1])\n",
    "for ax, column in zip(axes.flatten(), categorical_columns):\n",
    "    deposit_counts = df.groupby([column, 'deposit']).size().unstack().fillna(0)\n",
    "    deposit_counts.plot(kind='bar', stacked=True, ax=ax, color=['skyblue', 'orange'])\n",
    "    ax.set_title(f'{column} vs Deposit')\n",
    "    ax.set_xlabel(column)\n",
    "    ax.set_ylabel('Count')\n",
    "    ax.tick_params(axis='x', rotation=45)\n",
    "    ax.legend(title='Deposit', loc='upper right')\n",
    "\n",
    "plt.show()"
   ]
  },
  {
   "cell_type": "markdown",
   "metadata": {},
   "source": [
    "1. **Job vs Deposit**:\n",
    "   - Certain jobs like \"management\" and \"retired\" have higher counts of deposit subscriptions.\n",
    "   - Jobs such as \"student\" and \"blue-collar\" show fewer deposits.\n",
    "\n",
    "2. **Marital Status vs Deposit**:\n",
    "   - Married individuals have a higher count of deposits compared to single or divorced individuals.\n",
    "\n",
    "3. **Education vs Deposit**:\n",
    "   - Individuals with tertiary education are more likely to subscribe to deposits, followed by those with secondary education.\n",
    "\n",
    "4. **Default vs Deposit**:\n",
    "   - Almost all deposit subscriptions come from individuals with no default history.\n",
    "\n",
    "5. **Housing Loan vs Deposit**:\n",
    "   - Those without housing loans are more likely to subscribe to deposits.\n",
    "\n",
    "6. **Loan vs Deposit**:\n",
    "   - Individuals without personal loans show a higher count of deposit subscriptions.\n",
    "\n",
    "7. **Contact Method vs Deposit**:\n",
    "   - The \"cellular\" contact method is associated with more deposit subscriptions compared to \"telephone.\"\n",
    "\n",
    "8. **Month vs Deposit**:\n",
    "   - May has the highest number of deposit subscriptions, indicating possible seasonal trends.\n",
    "\n",
    "9. **Previous Campaign Outcome (Poutcome) vs Deposit**:\n",
    "   - A successful previous campaign outcome correlates with a higher likelihood of deposit subscription.\n",
    "\n",
    "These insights suggest that factors like job type, education level, and previous campaign success significantly influence both deposit subscription likelihood and balance distribution."
   ]
  },
  {
   "cell_type": "markdown",
   "metadata": {},
   "source": [
    "Let us remove all the outliers using the IQR method"
   ]
  },
  {
   "cell_type": "code",
   "execution_count": null,
   "metadata": {},
   "outputs": [],
   "source": [
    "def remove_outliers(df, columns):\n",
    "    for column in columns:\n",
    "        Q1 = df[column].quantile(0.25)\n",
    "        Q3 = df[column].quantile(0.75)\n",
    "        IQR = Q3 - Q1\n",
    "        lower_bound = Q1 - 1.5 * IQR\n",
    "        upper_bound = Q3 + 1.5 * IQR\n",
    "        df = df[(df[column] >= lower_bound) & (df[column] <= upper_bound)]\n",
    "    return df\n",
    "\n",
    "all_columns = df.select_dtypes(include=['int64', 'float64']).columns  \n",
    "df1 = remove_outliers(df, all_columns)\n",
    "df1"
   ]
  },
  {
   "cell_type": "markdown",
   "metadata": {},
   "source": [
    "After removing all the outliers, the dataset has reduced to around 6500 rows."
   ]
  },
  {
   "cell_type": "code",
   "execution_count": null,
   "metadata": {},
   "outputs": [],
   "source": [
    "categorical_columns = ['job', 'marital', 'education', 'default', 'housing', 'loan', 'contact', 'month', 'poutcome', 'deposit']\n",
    "\n",
    "label_encoder = LabelEncoder()\n",
    "df2 = df1.copy()\n",
    "\n",
    "for column in categorical_columns:\n",
    "    df2[column] = label_encoder.fit_transform(df1[column])\n",
    "\n",
    "df2"
   ]
  },
  {
   "cell_type": "markdown",
   "metadata": {},
   "source": [
    "We are done with EDA, lets use ML algorithms to segment and categorise customers."
   ]
  },
  {
   "cell_type": "markdown",
   "metadata": {},
   "source": [
    "Splitting Train, Validation and Test data"
   ]
  },
  {
   "cell_type": "code",
   "execution_count": null,
   "metadata": {},
   "outputs": [],
   "source": [
    "X = df2.drop('deposit', axis=1)\n",
    "y = df2['deposit']\n",
    "\n",
    "X_temp, X_test, y_temp, y_test = train_test_split(X, y, test_size=0.2, random_state=42)\n",
    "\n",
    "X_train, X_val, y_train, y_val = train_test_split(X_temp, y_temp, test_size=0.25, random_state=42)\n",
    "\n",
    "X_train.shape, X_val.shape, X_test.shape, y_train.shape, y_val.shape, y_test.shape"
   ]
  },
  {
   "cell_type": "code",
   "execution_count": null,
   "metadata": {},
   "outputs": [],
   "source": [
    "dt = DecisionTreeClassifier(random_state=42)\n",
    "dt.fit(X_train, y_train)\n",
    "y_pred = dt.predict(X_test)\n",
    "\n",
    "accuracy_dt_train = (rf.predict(X_train) == y_train).mean()\n",
    "accuracy_dt = (y_pred == y_test).mean()\n",
    "\n",
    "print(f\"Training Accuracy: {accuracy_dt_train}\")\n",
    "print(f\"Test Accuracy: {round(accuracy_dt,2)}\")"
   ]
  },
  {
   "cell_type": "code",
   "execution_count": null,
   "metadata": {},
   "outputs": [],
   "source": [
    "rf = RandomForestClassifier(random_state=42)\n",
    "rf.fit(X_train, y_train)\n",
    "y_pred = rf.predict(X_val)\n",
    "\n",
    "accuracy_rf_train = (rf.predict(X_train) == y_train).mean()\n",
    "accuracy_rf_val = (y_pred == y_val).mean()\n",
    "\n",
    "print(f\"Training Accuracy: {accuracy_rf_train}\")\n",
    "print(f\"Validation Accuracy: {round(accuracy_rf_val,2)}\")"
   ]
  },
  {
   "cell_type": "code",
   "execution_count": null,
   "metadata": {},
   "outputs": [],
   "source": [
    "param_grid = {\n",
    "    'n_estimators': [100, 200, 300, 400, 500],\n",
    "    'max_features': ['auto', 'sqrt', 'log2'],\n",
    "    'max_depth': [None, 10, 20, 30, 40, 50],\n",
    "    'min_samples_split': [2, 5, 10],\n",
    "    'min_samples_leaf': [1, 2, 4],\n",
    "    'bootstrap': [True, False]\n",
    "}\n",
    "\n",
    "rf_random = RandomizedSearchCV(estimator=rf, param_distributions=param_grid, n_iter=100, cv=3, verbose=2, random_state=42, n_jobs=-1)\n",
    "\n",
    "rf_random.fit(X_train, y_train)\n",
    "\n",
    "best_params = rf_random.best_params_\n",
    "best_params"
   ]
  },
  {
   "cell_type": "code",
   "execution_count": null,
   "metadata": {},
   "outputs": [],
   "source": [
    "best_params"
   ]
  },
  {
   "cell_type": "code",
   "execution_count": null,
   "metadata": {},
   "outputs": [],
   "source": [
    "best_rf = RandomForestClassifier(**best_params, random_state=42)\n",
    "\n",
    "best_rf.fit(X_train, y_train)\n",
    "y_pred_best_rf = best_rf.predict(X_test)\n",
    "y_pred_val = best_rf.predict(X_val)\n",
    "\n",
    "accuracy_best_rf_val = (y_pred_val == y_val).mean()\n",
    "accuracy_best_rf_train = (best_rf.predict(X_train) == y_train).mean()\n",
    "accuracy_best_rf = (y_pred_best_rf == y_test).mean()\n",
    "\n",
    "print(f\"Training Accuracy: {round(accuracy_best_rf_train,2)}\")\n",
    "print(f\"Validation Accuracy: {round(accuracy_best_rf_val,2)}\")\n",
    "print(f\"Test Accuracy: {round(accuracy_best_rf,2)}\")"
   ]
  },
  {
   "cell_type": "code",
   "execution_count": null,
   "metadata": {},
   "outputs": [],
   "source": [
    "gb = GradientBoostingClassifier(random_state=42)\n",
    "gb.fit(X_train, y_train)\n",
    "\n",
    "accuracy_gb_train = (gb.predict(X_train) == y_train).mean()\n",
    "accuracy_gb_val = (gb.predict(X_val) == y_val).mean()\n",
    "\n",
    "print(f\"Training Accuracy: {round(accuracy_gb_train,2)}\")\n",
    "print(f\"Validation Accuracy: {round(accuracy_gb_val,2)}\")"
   ]
  },
  {
   "cell_type": "code",
   "execution_count": null,
   "metadata": {},
   "outputs": [],
   "source": [
    "param_grid_gb = {\n",
    "    'n_estimators': [100, 200, 300],\n",
    "    'learning_rate': [0.01, 0.1, 0.2],\n",
    "    'max_depth': [3, 4, 5],\n",
    "    'min_samples_split': [2, 5, 10],\n",
    "    'min_samples_leaf': [1, 2, 4]\n",
    "}\n",
    "\n",
    "gb_grid = GridSearchCV(estimator=gb, param_grid=param_grid_gb, cv=3, n_jobs=-1, verbose=2)\n",
    "\n",
    "gb_grid.fit(X_train, y_train)\n",
    "\n",
    "best_params_gb = gb_grid.best_params_\n",
    "best_params_gb"
   ]
  },
  {
   "cell_type": "code",
   "execution_count": null,
   "metadata": {},
   "outputs": [],
   "source": [
    "best_gb = GradientBoostingClassifier(**best_params_gb, random_state=42)\n",
    "\n",
    "best_gb.fit(X_train, y_train)\n",
    "y_pred_best_gb = best_gb.predict(X_test)\n",
    "y_pred_val_gb = best_gb.predict(X_val)\n",
    "accuracy_best_gb_val = (y_pred_val_gb == y_val).mean()\n",
    "\n",
    "accuracy_best_gb_train = (best_gb.predict(X_train) == y_train).mean()\n",
    "accuracy_best_gb_test = (y_pred_best_gb == y_test).mean()\n",
    "\n",
    "print(f\"Training Accuracy: {round(accuracy_best_gb_train,2)}\")\n",
    "print(f\"Validation Accuracy: {round(accuracy_best_gb_val,2)}\")\n",
    "print(f\"Test Accuracy: {round(accuracy_best_gb_test,2)}\")"
   ]
  },
  {
   "cell_type": "code",
   "execution_count": null,
   "metadata": {},
   "outputs": [],
   "source": [
    "\n",
    "svm = SVC(random_state=42)\n",
    "\n",
    "svm.fit(X_train, y_train)\n",
    "y_pred_svm = svm.predict(X_test)\n",
    "\n",
    "accuracy_svm_train = accuracy_score(y_train, svm.predict(X_train))\n",
    "accuracy_svm_test = accuracy_score(y_test, y_pred_svm)\n",
    "\n",
    "print(f\"Training Accuracy: {round(accuracy_svm_train,2)}\")\n",
    "print(f\"Test Accuracy: {round(accuracy_svm_test,2)}\")"
   ]
  },
  {
   "cell_type": "code",
   "execution_count": null,
   "metadata": {},
   "outputs": [],
   "source": [
    "xgb = XGBClassifier(random_state=42, use_label_encoder=False, eval_metric='logloss')\n",
    "\n",
    "xgb.fit(X_train, y_train)\n",
    "\n",
    "y_pred_val_xgb = xgb.predict(X_val)\n",
    "\n",
    "accuracy_xgb_val = (y_pred_val_xgb == y_val).mean()\n",
    "accuracy_xgb_train = (xgb.predict(X_train) == y_train).mean()\n",
    "\n",
    "print(f\"Training Accuracy: {round(accuracy_xgb_train,2)}\")\n",
    "print(f\"Validation Accuracy: {round(accuracy_xgb_val,2)}\")"
   ]
  },
  {
   "cell_type": "code",
   "execution_count": null,
   "metadata": {},
   "outputs": [],
   "source": [
    "param_grid_xgb = {\n",
    "    'n_estimators': [100, 200, 300, 400, 500],\n",
    "    'learning_rate': [0.01, 0.1, 0.2, 0.3],\n",
    "    'max_depth': [3, 4, 5, 6, 7, 8, 9, 10],\n",
    "    'min_child_weight': [1, 2, 3, 4, 5],\n",
    "    'subsample': [0.6, 0.7, 0.8, 0.9, 1.0],\n",
    "    'colsample_bytree': [0.6, 0.7, 0.8, 0.9, 1.0]\n",
    "}\n",
    "\n",
    "xgb_random = RandomizedSearchCV(estimator=xgb, param_distributions=param_grid_xgb, n_iter=100, cv=3, verbose=2, random_state=42, n_jobs=-1)\n",
    "\n",
    "xgb_random.fit(X_train, y_train)\n",
    "\n",
    "best_params_xgb = xgb_random.best_params_\n",
    "best_params_xgb"
   ]
  },
  {
   "cell_type": "code",
   "execution_count": null,
   "metadata": {},
   "outputs": [],
   "source": [
    "best_params_xgb"
   ]
  },
  {
   "cell_type": "code",
   "execution_count": null,
   "metadata": {},
   "outputs": [],
   "source": [
    "best_xgb = XGBClassifier(**best_params_gb,random_state=42)\n",
    "\n",
    "best_xgb.fit(X_train, y_train)\n",
    "\n",
    "y_pred_best_xgb = best_xgb.predict(X_test)\n",
    "y_pred_val_xgb = best_xgb.predict(X_val)\n",
    "\n",
    "accuracy_best_xgb_train = (best_xgb.predict(X_train) == y_train).mean()\n",
    "accuracy_best_xgb_val = (y_pred_val_xgb == y_val).mean()\n",
    "accuracy_best_xgb_test = (y_pred_best_xgb == y_test).mean()\n",
    "\n",
    "print(f\"Training Accuracy: {round(accuracy_best_xgb_train,2)}\")\n",
    "print(f\"Validation Accuracy: {round(accuracy_best_xgb_val,2)}\")\n",
    "print(f\"Test Accuracy: {round(accuracy_best_xgb_test,2)}\")"
   ]
  },
  {
   "cell_type": "code",
   "execution_count": null,
   "metadata": {},
   "outputs": [],
   "source": [
    "# Model names and their corresponding accuracies\n",
    "models = ['Decision Tree', 'Random Forest', 'Best Random Forest', 'Gradient Boosting', 'Best Gradient Boosting', 'SVM', 'XGBoost', 'Best XGBoost']\n",
    "accuracies = [accuracy_dt, accuracy_rf, accuracy_best_rf, accuracy_gb, accuracy_best_gb_test, accuracy_svm_test, accuracy_xgb_test, accuracy_best_xgb_test]\n",
    "\n",
    "plt.figure(figsize=(16, 6))\n",
    "plt.bar(models, accuracies, color=['blue', 'green', 'red', 'purple', 'orange', 'cyan', 'magenta'])\n",
    "\n",
    "for i, v in enumerate(accuracies):\n",
    "    plt.text(i, v + 0.01, f\"{v:.3f}\", ha='center')\n",
    "    \n",
    "plt.xlabel('Models')\n",
    "plt.xticks(rotation=45)\n",
    "plt.ylabel('Accuracy')\n",
    "plt.title('Model Accuracies')\n",
    "plt.ylim(0, 1)\n",
    "plt.show()"
   ]
  },
  {
   "cell_type": "code",
   "execution_count": null,
   "metadata": {},
   "outputs": [],
   "source": [
    "fpr_dt, tpr_dt, _ = roc_curve(y_test, dt.predict_proba(X_test)[:, 1])\n",
    "roc_auc_dt = auc(fpr_dt, tpr_dt)\n",
    "\n",
    "fpr_rf, tpr_rf, _ = roc_curve(y_test, rf.predict_proba(X_test)[:, 1])\n",
    "roc_auc_rf = auc(fpr_rf, tpr_rf)\n",
    "\n",
    "fpr_best_rf, tpr_best_rf, _ = roc_curve(y_test, best_rf.predict_proba(X_test)[:, 1])\n",
    "roc_auc_best_rf = auc(fpr_best_rf, tpr_best_rf)\n",
    "\n",
    "fpr_gb, tpr_gb, _ = roc_curve(y_test, gb.predict_proba(X_test)[:, 1])\n",
    "roc_auc_gb = auc(fpr_gb, tpr_gb)\n",
    "\n",
    "fpr_best_gb, tpr_best_gb, _ = roc_curve(y_test, best_gb.predict_proba(X_test)[:, 1])\n",
    "roc_auc_best_gb = auc(fpr_best_gb, tpr_best_gb)\n",
    "\n",
    "fpr_svm, tpr_svm, _ = roc_curve(y_test, svm.decision_function(X_test))\n",
    "roc_auc_svm = auc(fpr_svm, tpr_svm)\n",
    "\n",
    "fpr_xgb, tpr_xgb, _ = roc_curve(y_test, xgb.predict_proba(X_test)[:, 1])\n",
    "roc_auc_xgb = auc(fpr_xgb, tpr_xgb)\n",
    "\n",
    "fpr_best_xgb, tpr_best_xgb, _ = roc_curve(y_test, best_xgb.predict_proba(X_test)[:, 1])\n",
    "roc_auc_best_xgb = auc(fpr_best_xgb, tpr_best_xgb)\n",
    "\n",
    "plt.figure(figsize=(12, 8))\n",
    "plt.plot(fpr_dt, tpr_dt, color='blue', lw=2, label=f'Decision Tree (AUC = {roc_auc_dt:.2f})')\n",
    "plt.plot(fpr_rf, tpr_rf, color='green', lw=2, label=f'Random Forest (AUC = {roc_auc_rf:.2f})')\n",
    "plt.plot(fpr_best_rf, tpr_best_rf, color='red', lw=2, label=f'Best Random Forest (AUC = {roc_auc_best_rf:.2f})')\n",
    "plt.plot(fpr_gb, tpr_gb, color='purple', lw=2, label=f'Gradient Boosting (AUC = {roc_auc_gb:.2f})')\n",
    "plt.plot(fpr_best_gb, tpr_best_gb, color='orange', lw=2, label=f'Best Gradient Boosting (AUC = {roc_auc_best_gb:.2f})')\n",
    "plt.plot(fpr_svm, tpr_svm, color='cyan', lw=2, label=f'SVM (AUC = {roc_auc_svm:.2f})')\n",
    "plt.plot(fpr_xgb, tpr_xgb, color='magenta', lw=2, label=f'XGBoost (AUC = {roc_auc_xgb:.2f})')\n",
    "plt.plot(fpr_best_xgb, tpr_best_xgb, color='brown', lw=2, label=f'Best XGBoost (AUC = {roc_auc_best_xgb:.2f})')\n",
    "\n",
    "plt.plot([0, 1], [0, 1], color='navy', lw=2, linestyle='--')\n",
    "plt.xlim([0.0, 1.0])\n",
    "plt.ylim([0.0, 1.05])\n",
    "plt.xlabel('False Positive Rate')\n",
    "plt.ylabel('True Positive Rate')\n",
    "plt.title('Receiver Operating Characteristic (ROC) Curves')\n",
    "plt.legend(loc=\"lower right\")\n",
    "plt.show()"
   ]
  },
  {
   "cell_type": "code",
   "execution_count": null,
   "metadata": {},
   "outputs": [],
   "source": [
    "importances = rf.feature_importances_\n",
    "\n",
    "plt.figure(figsize=(12, 6))\n",
    "plt.barh(feature_names, importances, color='skyblue')\n",
    "plt.xlabel('Importance')\n",
    "plt.ylabel('Feature')\n",
    "plt.title('Feature Importances from Random Forest')\n",
    "plt.gca().invert_yaxis()\n",
    "plt.show()\n",
    "feature_names = X.columns\n",
    "\n",
    "feature_importances = pd.DataFrame({'Feature': feature_names, 'Importance': importances})\n",
    "feature_importances = feature_importances.sort_values(by='Importance', ascending=False)\n",
    "\n",
    "print(feature_importances)"
   ]
  },
  {
   "cell_type": "code",
   "execution_count": null,
   "metadata": {},
   "outputs": [],
   "source": [
    "importances_gb = gb.feature_importances_\n",
    "\n",
    "# Plotting the feature importances\n",
    "plt.figure(figsize=(12, 6))\n",
    "plt.barh(feature_names, importances_gb, color='skyblue')\n",
    "plt.xlabel('Importance')\n",
    "plt.ylabel('Feature')\n",
    "plt.title('Feature Importances from Gradient Boosting')\n",
    "plt.gca().invert_yaxis()\n",
    "plt.show()\n",
    "\n",
    "feature_importances_gb = pd.DataFrame({'Feature': feature_names, 'Importance': importances_gb})\n",
    "feature_importances_gb = feature_importances_gb.sort_values(by='Importance', ascending=False)\n",
    "\n",
    "print(feature_importances_gb)"
   ]
  },
  {
   "cell_type": "code",
   "execution_count": null,
   "metadata": {},
   "outputs": [],
   "source": [
    "importances_xgb = best_xgb.feature_importances_\n",
    "\n",
    "plt.figure(figsize=(12, 6))\n",
    "plt.barh(feature_names, importances_xgb, color='skyblue')\n",
    "plt.xlabel('Importance')\n",
    "plt.ylabel('Feature')\n",
    "plt.title('Feature Importances from XGBoost')\n",
    "plt.gca().invert_yaxis()\n",
    "plt.show()\n",
    "\n",
    "feature_importances_xgb = pd.DataFrame({'Feature': feature_names, 'Importance': importances_xgb})\n",
    "feature_importances_xgb = feature_importances_xgb.sort_values(by='Importance', ascending=False)\n",
    "\n",
    "print(feature_importances_xgb)"
   ]
  },
  {
   "cell_type": "code",
   "execution_count": null,
   "metadata": {},
   "outputs": [],
   "source": []
  }
 ],
 "metadata": {
  "kernelspec": {
   "display_name": "Python 3",
   "language": "python",
   "name": "python3"
  },
  "language_info": {
   "codemirror_mode": {
    "name": "ipython",
    "version": 3
   },
   "file_extension": ".py",
   "mimetype": "text/x-python",
   "name": "python",
   "nbconvert_exporter": "python",
   "pygments_lexer": "ipython3",
   "version": "3.12.5"
  }
 },
 "nbformat": 4,
 "nbformat_minor": 2
}
